{
 "cells": [
  {
   "cell_type": "markdown",
   "id": "8ae5f444",
   "metadata": {},
   "source": [
    "# My Jupyter Notebook on IBM Watson Studio"
   ]
  },
  {
   "cell_type": "markdown",
   "id": "f43d971e",
   "metadata": {},
   "source": [
    "**Dianze Liu**\n",
    "I want to become a data scientist"
   ]
  },
  {
   "cell_type": "markdown",
   "id": "8bb77da9",
   "metadata": {},
   "source": [
    "*I am interested in Data Science because data science is going to benefiting many industries in the future by revealing insight behind data and helping industries making smart decisions.*"
   ]
  },
  {
   "cell_type": "markdown",
   "id": "8bbf0bd6",
   "metadata": {},
   "source": [
    "### the code in next cell will compute 10+10 until reach 100"
   ]
  },
  {
   "cell_type": "code",
   "execution_count": 12,
   "id": "862fbc82",
   "metadata": {
    "scrolled": true
   },
   "outputs": [
    {
     "name": "stdout",
     "output_type": "stream",
     "text": [
      "10\n",
      "20\n",
      "30\n",
      "40\n",
      "50\n",
      "60\n",
      "70\n",
      "80\n",
      "90\n",
      "100\n"
     ]
    }
   ],
   "source": [
    "i=10\n",
    "while i<=100:\n",
    "    print(i)\n",
    "    i=i+10\n"
   ]
  },
  {
   "cell_type": "markdown",
   "id": "ecdcb680",
   "metadata": {},
   "source": [
    "| - header | **header** |\n",
    "| ------ | ------ |\n",
    "| cell | **cell** |\n",
    "| 1 | 2 |\n",
    "\n",
    "<a href=\"https://google.com\">Google</a> "
   ]
  }
 ],
 "metadata": {
  "kernelspec": {
   "display_name": "Python 3 (ipykernel)",
   "language": "python",
   "name": "python3"
  },
  "language_info": {
   "codemirror_mode": {
    "name": "ipython",
    "version": 3
   },
   "file_extension": ".py",
   "mimetype": "text/x-python",
   "name": "python",
   "nbconvert_exporter": "python",
   "pygments_lexer": "ipython3",
   "version": "3.9.13"
  }
 },
 "nbformat": 4,
 "nbformat_minor": 5
}
